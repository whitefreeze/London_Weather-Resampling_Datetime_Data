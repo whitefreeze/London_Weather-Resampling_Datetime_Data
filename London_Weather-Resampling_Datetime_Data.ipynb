{
 "cells": [
  {
   "cell_type": "markdown",
   "id": "2437ae48",
   "metadata": {},
   "source": [
    "# London Weather: Resampling Datetime Data"
   ]
  },
  {
   "cell_type": "markdown",
   "id": "3d4fead1",
   "metadata": {},
   "source": [
    "## Import Necessary Libraries"
   ]
  },
  {
   "cell_type": "code",
   "execution_count": 1,
   "id": "1020325b",
   "metadata": {},
   "outputs": [],
   "source": [
    "# Libraries\n",
    "import pandas as pd\n",
    "import numpy as np\n",
    "import seaborn as sns\n",
    "import matplotlib.pyplot as plt\n",
    "import datetime as dt\n",
    "\n",
    "#import tick customization tools\n",
    "import matplotlib.ticker as mticks\n",
    "import matplotlib.dates as mdates\n",
    "\n",
    "# Permanently changes the pandas settings\n",
    "pd.set_option('display.max_columns', None)\n",
    "pd.set_option('display.max_rows', 7)\n",
    "\n",
    "from sklearn import set_config\n",
    "set_config(display='diagram')\n",
    "\n",
    "# display values with two decimal places and comma separation for powers of thousands.\n",
    "pd.set_option('display.float_format', lambda x: f\"{x:,.2f}\")"
   ]
  },
  {
   "cell_type": "markdown",
   "id": "79a4645d",
   "metadata": {},
   "source": [
    "## Load the Data"
   ]
  },
  {
   "cell_type": "code",
   "execution_count": 2,
   "id": "d19ec008",
   "metadata": {},
   "outputs": [
    {
     "data": {
      "text/html": [
       "<div>\n",
       "<style scoped>\n",
       "    .dataframe tbody tr th:only-of-type {\n",
       "        vertical-align: middle;\n",
       "    }\n",
       "\n",
       "    .dataframe tbody tr th {\n",
       "        vertical-align: top;\n",
       "    }\n",
       "\n",
       "    .dataframe thead th {\n",
       "        text-align: right;\n",
       "    }\n",
       "</style>\n",
       "<table border=\"1\" class=\"dataframe\">\n",
       "  <thead>\n",
       "    <tr style=\"text-align: right;\">\n",
       "      <th></th>\n",
       "      <th>date</th>\n",
       "      <th>cloud_cover</th>\n",
       "      <th>sunshine</th>\n",
       "      <th>global_radiation</th>\n",
       "      <th>max_temp</th>\n",
       "      <th>mean_temp</th>\n",
       "      <th>min_temp</th>\n",
       "      <th>precipitation</th>\n",
       "      <th>pressure</th>\n",
       "      <th>snow_depth</th>\n",
       "    </tr>\n",
       "  </thead>\n",
       "  <tbody>\n",
       "    <tr>\n",
       "      <th>0</th>\n",
       "      <td>19790101</td>\n",
       "      <td>2.00</td>\n",
       "      <td>7.00</td>\n",
       "      <td>52.00</td>\n",
       "      <td>2.30</td>\n",
       "      <td>-4.10</td>\n",
       "      <td>-7.50</td>\n",
       "      <td>0.40</td>\n",
       "      <td>101,900.00</td>\n",
       "      <td>9.00</td>\n",
       "    </tr>\n",
       "    <tr>\n",
       "      <th>1</th>\n",
       "      <td>19790102</td>\n",
       "      <td>6.00</td>\n",
       "      <td>1.70</td>\n",
       "      <td>27.00</td>\n",
       "      <td>1.60</td>\n",
       "      <td>-2.60</td>\n",
       "      <td>-7.50</td>\n",
       "      <td>0.00</td>\n",
       "      <td>102,530.00</td>\n",
       "      <td>8.00</td>\n",
       "    </tr>\n",
       "    <tr>\n",
       "      <th>2</th>\n",
       "      <td>19790103</td>\n",
       "      <td>5.00</td>\n",
       "      <td>0.00</td>\n",
       "      <td>13.00</td>\n",
       "      <td>1.30</td>\n",
       "      <td>-2.80</td>\n",
       "      <td>-7.20</td>\n",
       "      <td>0.00</td>\n",
       "      <td>102,050.00</td>\n",
       "      <td>4.00</td>\n",
       "    </tr>\n",
       "    <tr>\n",
       "      <th>3</th>\n",
       "      <td>19790104</td>\n",
       "      <td>8.00</td>\n",
       "      <td>0.00</td>\n",
       "      <td>13.00</td>\n",
       "      <td>-0.30</td>\n",
       "      <td>-2.60</td>\n",
       "      <td>-6.50</td>\n",
       "      <td>0.00</td>\n",
       "      <td>100,840.00</td>\n",
       "      <td>2.00</td>\n",
       "    </tr>\n",
       "    <tr>\n",
       "      <th>4</th>\n",
       "      <td>19790105</td>\n",
       "      <td>6.00</td>\n",
       "      <td>2.00</td>\n",
       "      <td>29.00</td>\n",
       "      <td>5.60</td>\n",
       "      <td>-0.80</td>\n",
       "      <td>-1.40</td>\n",
       "      <td>0.00</td>\n",
       "      <td>102,250.00</td>\n",
       "      <td>1.00</td>\n",
       "    </tr>\n",
       "  </tbody>\n",
       "</table>\n",
       "</div>"
      ],
      "text/plain": [
       "       date  cloud_cover  sunshine  global_radiation  max_temp  mean_temp  \\\n",
       "0  19790101         2.00      7.00             52.00      2.30      -4.10   \n",
       "1  19790102         6.00      1.70             27.00      1.60      -2.60   \n",
       "2  19790103         5.00      0.00             13.00      1.30      -2.80   \n",
       "3  19790104         8.00      0.00             13.00     -0.30      -2.60   \n",
       "4  19790105         6.00      2.00             29.00      5.60      -0.80   \n",
       "\n",
       "   min_temp  precipitation   pressure  snow_depth  \n",
       "0     -7.50           0.40 101,900.00        9.00  \n",
       "1     -7.50           0.00 102,530.00        8.00  \n",
       "2     -7.20           0.00 102,050.00        4.00  \n",
       "3     -6.50           0.00 100,840.00        2.00  \n",
       "4     -1.40           0.00 102,250.00        1.00  "
      ]
     },
     "execution_count": 2,
     "metadata": {},
     "output_type": "execute_result"
    }
   ],
   "source": [
    "# Import the data\n",
    "url = 'https://docs.google.com/spreadsheets/d/e/2PACX-1vT_jChgNsQbHbg4TGepzIqk8XC9DTIKmyyxb1upo5cfZCgbfIUQc2ZC0YMzuU5uApP140Ob49KBjdqh/pub?gid=1198589591&single=true&output=csv'\n",
    "df_OE = pd.read_csv(url)\n",
    "df_OE.head()"
   ]
  },
  {
   "cell_type": "code",
   "execution_count": 3,
   "id": "560129ba",
   "metadata": {},
   "outputs": [],
   "source": [
    "df = df_OE.copy()"
   ]
  },
  {
   "cell_type": "markdown",
   "id": "15b9029a",
   "metadata": {},
   "source": [
    "## Prepare DataFrame"
   ]
  },
  {
   "cell_type": "code",
   "execution_count": 4,
   "id": "5eb43fa8",
   "metadata": {},
   "outputs": [
    {
     "data": {
      "text/plain": [
       "0       1979-01-01\n",
       "1       1979-01-02\n",
       "2       1979-01-03\n",
       "           ...    \n",
       "15338   2020-12-29\n",
       "15339   2020-12-30\n",
       "15340   2020-12-31\n",
       "Name: date, Length: 15341, dtype: datetime64[ns]"
      ]
     },
     "execution_count": 4,
     "metadata": {},
     "output_type": "execute_result"
    }
   ],
   "source": [
    "# Convert the date column to datetime dtype\n",
    "df['date'] = pd.to_datetime(df['date'], format='%Y%m%d')\n",
    "df['date']"
   ]
  },
  {
   "cell_type": "code",
   "execution_count": 5,
   "id": "31c920eb",
   "metadata": {},
   "outputs": [
    {
     "data": {
      "text/plain": [
       "DatetimeIndex(['1979-01-01', '1979-01-02', '1979-01-03', '1979-01-04',\n",
       "               '1979-01-05', '1979-01-06', '1979-01-07', '1979-01-08',\n",
       "               '1979-01-09', '1979-01-10',\n",
       "               ...\n",
       "               '2020-12-22', '2020-12-23', '2020-12-24', '2020-12-25',\n",
       "               '2020-12-26', '2020-12-27', '2020-12-28', '2020-12-29',\n",
       "               '2020-12-30', '2020-12-31'],\n",
       "              dtype='datetime64[ns]', name='date', length=15341, freq=None)"
      ]
     },
     "execution_count": 5,
     "metadata": {},
     "output_type": "execute_result"
    }
   ],
   "source": [
    "# Set the date column as the index\n",
    "df = df.set_index('date')\n",
    "df.index"
   ]
  },
  {
   "cell_type": "code",
   "execution_count": 6,
   "id": "07773e43",
   "metadata": {},
   "outputs": [
    {
     "data": {
      "text/html": [
       "<div>\n",
       "<style scoped>\n",
       "    .dataframe tbody tr th:only-of-type {\n",
       "        vertical-align: middle;\n",
       "    }\n",
       "\n",
       "    .dataframe tbody tr th {\n",
       "        vertical-align: top;\n",
       "    }\n",
       "\n",
       "    .dataframe thead th {\n",
       "        text-align: right;\n",
       "    }\n",
       "</style>\n",
       "<table border=\"1\" class=\"dataframe\">\n",
       "  <thead>\n",
       "    <tr style=\"text-align: right;\">\n",
       "      <th></th>\n",
       "      <th>cloud_cover</th>\n",
       "      <th>sunshine</th>\n",
       "      <th>global_radiation</th>\n",
       "      <th>max_temp</th>\n",
       "      <th>mean_temp</th>\n",
       "      <th>min_temp</th>\n",
       "      <th>precipitation</th>\n",
       "      <th>pressure</th>\n",
       "      <th>snow_depth</th>\n",
       "    </tr>\n",
       "    <tr>\n",
       "      <th>date</th>\n",
       "      <th></th>\n",
       "      <th></th>\n",
       "      <th></th>\n",
       "      <th></th>\n",
       "      <th></th>\n",
       "      <th></th>\n",
       "      <th></th>\n",
       "      <th></th>\n",
       "      <th></th>\n",
       "    </tr>\n",
       "  </thead>\n",
       "  <tbody>\n",
       "    <tr>\n",
       "      <th>2000-01-01</th>\n",
       "      <td>7.00</td>\n",
       "      <td>0.40</td>\n",
       "      <td>18.00</td>\n",
       "      <td>10.80</td>\n",
       "      <td>7.00</td>\n",
       "      <td>4.90</td>\n",
       "      <td>0.00</td>\n",
       "      <td>102,450.00</td>\n",
       "      <td>0.00</td>\n",
       "    </tr>\n",
       "    <tr>\n",
       "      <th>2000-01-02</th>\n",
       "      <td>7.00</td>\n",
       "      <td>0.70</td>\n",
       "      <td>20.00</td>\n",
       "      <td>11.50</td>\n",
       "      <td>7.90</td>\n",
       "      <td>5.00</td>\n",
       "      <td>0.20</td>\n",
       "      <td>102,530.00</td>\n",
       "      <td>0.00</td>\n",
       "    </tr>\n",
       "  </tbody>\n",
       "</table>\n",
       "</div>"
      ],
      "text/plain": [
       "            cloud_cover  sunshine  global_radiation  max_temp  mean_temp  \\\n",
       "date                                                                       \n",
       "2000-01-01         7.00      0.40             18.00     10.80       7.00   \n",
       "2000-01-02         7.00      0.70             20.00     11.50       7.90   \n",
       "\n",
       "            min_temp  precipitation   pressure  snow_depth  \n",
       "date                                                        \n",
       "2000-01-01      4.90           0.00 102,450.00        0.00  \n",
       "2000-01-02      5.00           0.20 102,530.00        0.00  "
      ]
     },
     "metadata": {},
     "output_type": "display_data"
    },
    {
     "data": {
      "text/html": [
       "<div>\n",
       "<style scoped>\n",
       "    .dataframe tbody tr th:only-of-type {\n",
       "        vertical-align: middle;\n",
       "    }\n",
       "\n",
       "    .dataframe tbody tr th {\n",
       "        vertical-align: top;\n",
       "    }\n",
       "\n",
       "    .dataframe thead th {\n",
       "        text-align: right;\n",
       "    }\n",
       "</style>\n",
       "<table border=\"1\" class=\"dataframe\">\n",
       "  <thead>\n",
       "    <tr style=\"text-align: right;\">\n",
       "      <th></th>\n",
       "      <th>cloud_cover</th>\n",
       "      <th>sunshine</th>\n",
       "      <th>global_radiation</th>\n",
       "      <th>max_temp</th>\n",
       "      <th>mean_temp</th>\n",
       "      <th>min_temp</th>\n",
       "      <th>precipitation</th>\n",
       "      <th>pressure</th>\n",
       "      <th>snow_depth</th>\n",
       "    </tr>\n",
       "    <tr>\n",
       "      <th>date</th>\n",
       "      <th></th>\n",
       "      <th></th>\n",
       "      <th></th>\n",
       "      <th></th>\n",
       "      <th></th>\n",
       "      <th></th>\n",
       "      <th></th>\n",
       "      <th></th>\n",
       "      <th></th>\n",
       "    </tr>\n",
       "  </thead>\n",
       "  <tbody>\n",
       "    <tr>\n",
       "      <th>2020-12-30</th>\n",
       "      <td>6.00</td>\n",
       "      <td>0.40</td>\n",
       "      <td>22.00</td>\n",
       "      <td>5.60</td>\n",
       "      <td>2.70</td>\n",
       "      <td>-0.10</td>\n",
       "      <td>0.00</td>\n",
       "      <td>100,200.00</td>\n",
       "      <td>NaN</td>\n",
       "    </tr>\n",
       "    <tr>\n",
       "      <th>2020-12-31</th>\n",
       "      <td>7.00</td>\n",
       "      <td>1.30</td>\n",
       "      <td>34.00</td>\n",
       "      <td>1.50</td>\n",
       "      <td>-0.80</td>\n",
       "      <td>-3.10</td>\n",
       "      <td>0.00</td>\n",
       "      <td>100,500.00</td>\n",
       "      <td>NaN</td>\n",
       "    </tr>\n",
       "  </tbody>\n",
       "</table>\n",
       "</div>"
      ],
      "text/plain": [
       "            cloud_cover  sunshine  global_radiation  max_temp  mean_temp  \\\n",
       "date                                                                       \n",
       "2020-12-30         6.00      0.40             22.00      5.60       2.70   \n",
       "2020-12-31         7.00      1.30             34.00      1.50      -0.80   \n",
       "\n",
       "            min_temp  precipitation   pressure  snow_depth  \n",
       "date                                                        \n",
       "2020-12-30     -0.10           0.00 100,200.00         NaN  \n",
       "2020-12-31     -3.10           0.00 100,500.00         NaN  "
      ]
     },
     "metadata": {},
     "output_type": "display_data"
    }
   ],
   "source": [
    "# Filter data: keep only data from the year 2000 or later\n",
    "df = df.loc['2000':'2020']\n",
    "display(df.head(2))\n",
    "display(df.tail(2))"
   ]
  },
  {
   "cell_type": "code",
   "execution_count": 7,
   "id": "54bfa7a5",
   "metadata": {},
   "outputs": [
    {
     "data": {
      "text/html": [
       "<div>\n",
       "<style scoped>\n",
       "    .dataframe tbody tr th:only-of-type {\n",
       "        vertical-align: middle;\n",
       "    }\n",
       "\n",
       "    .dataframe tbody tr th {\n",
       "        vertical-align: top;\n",
       "    }\n",
       "\n",
       "    .dataframe thead th {\n",
       "        text-align: right;\n",
       "    }\n",
       "</style>\n",
       "<table border=\"1\" class=\"dataframe\">\n",
       "  <thead>\n",
       "    <tr style=\"text-align: right;\">\n",
       "      <th></th>\n",
       "      <th>precipitation</th>\n",
       "      <th>mean_temp</th>\n",
       "      <th>min_temp</th>\n",
       "      <th>max_temp</th>\n",
       "      <th>snow_depth</th>\n",
       "    </tr>\n",
       "    <tr>\n",
       "      <th>date</th>\n",
       "      <th></th>\n",
       "      <th></th>\n",
       "      <th></th>\n",
       "      <th></th>\n",
       "      <th></th>\n",
       "    </tr>\n",
       "  </thead>\n",
       "  <tbody>\n",
       "    <tr>\n",
       "      <th>2000-01-01</th>\n",
       "      <td>0.00</td>\n",
       "      <td>7.00</td>\n",
       "      <td>4.90</td>\n",
       "      <td>10.80</td>\n",
       "      <td>0.00</td>\n",
       "    </tr>\n",
       "    <tr>\n",
       "      <th>2000-01-02</th>\n",
       "      <td>0.20</td>\n",
       "      <td>7.90</td>\n",
       "      <td>5.00</td>\n",
       "      <td>11.50</td>\n",
       "      <td>0.00</td>\n",
       "    </tr>\n",
       "  </tbody>\n",
       "</table>\n",
       "</div>"
      ],
      "text/plain": [
       "            precipitation  mean_temp  min_temp  max_temp  snow_depth\n",
       "date                                                                \n",
       "2000-01-01           0.00       7.00      4.90     10.80        0.00\n",
       "2000-01-02           0.20       7.90      5.00     11.50        0.00"
      ]
     },
     "metadata": {},
     "output_type": "display_data"
    },
    {
     "data": {
      "text/html": [
       "<div>\n",
       "<style scoped>\n",
       "    .dataframe tbody tr th:only-of-type {\n",
       "        vertical-align: middle;\n",
       "    }\n",
       "\n",
       "    .dataframe tbody tr th {\n",
       "        vertical-align: top;\n",
       "    }\n",
       "\n",
       "    .dataframe thead th {\n",
       "        text-align: right;\n",
       "    }\n",
       "</style>\n",
       "<table border=\"1\" class=\"dataframe\">\n",
       "  <thead>\n",
       "    <tr style=\"text-align: right;\">\n",
       "      <th></th>\n",
       "      <th>precipitation</th>\n",
       "      <th>mean_temp</th>\n",
       "      <th>min_temp</th>\n",
       "      <th>max_temp</th>\n",
       "      <th>snow_depth</th>\n",
       "    </tr>\n",
       "    <tr>\n",
       "      <th>date</th>\n",
       "      <th></th>\n",
       "      <th></th>\n",
       "      <th></th>\n",
       "      <th></th>\n",
       "      <th></th>\n",
       "    </tr>\n",
       "  </thead>\n",
       "  <tbody>\n",
       "    <tr>\n",
       "      <th>2020-12-30</th>\n",
       "      <td>0.00</td>\n",
       "      <td>2.70</td>\n",
       "      <td>-0.10</td>\n",
       "      <td>5.60</td>\n",
       "      <td>NaN</td>\n",
       "    </tr>\n",
       "    <tr>\n",
       "      <th>2020-12-31</th>\n",
       "      <td>0.00</td>\n",
       "      <td>-0.80</td>\n",
       "      <td>-3.10</td>\n",
       "      <td>1.50</td>\n",
       "      <td>NaN</td>\n",
       "    </tr>\n",
       "  </tbody>\n",
       "</table>\n",
       "</div>"
      ],
      "text/plain": [
       "            precipitation  mean_temp  min_temp  max_temp  snow_depth\n",
       "date                                                                \n",
       "2020-12-30           0.00       2.70     -0.10      5.60         NaN\n",
       "2020-12-31           0.00      -0.80     -3.10      1.50         NaN"
      ]
     },
     "metadata": {},
     "output_type": "display_data"
    }
   ],
   "source": [
    "# Keep only the following features:\n",
    "# 'precipitation', 'mean_temp', 'min_temp', 'max_temp', 'snow_depth'\n",
    "df = df[['precipitation', 'mean_temp', 'min_temp', 'max_temp', 'snow_depth']]\n",
    "display(df.head(2))\n",
    "display(df.tail(2))"
   ]
  },
  {
   "cell_type": "markdown",
   "id": "1c24e134",
   "metadata": {},
   "source": [
    "## Impute any Missing Values"
   ]
  },
  {
   "cell_type": "code",
   "execution_count": 8,
   "id": "eb9310b9",
   "metadata": {},
   "outputs": [
    {
     "data": {
      "text/plain": [
       "390"
      ]
     },
     "execution_count": 8,
     "metadata": {},
     "output_type": "execute_result"
    }
   ],
   "source": [
    "# Check 'precipitation' for null values\n",
    "df['precipitation'].isna().sum()"
   ]
  },
  {
   "cell_type": "code",
   "execution_count": 9,
   "id": "7f0a7a7a",
   "metadata": {},
   "outputs": [
    {
     "data": {
      "text/plain": [
       "date\n",
       "2000-01-01   0.00\n",
       "2000-01-02   0.20\n",
       "2000-01-03   6.00\n",
       "2000-01-04   0.20\n",
       "2000-01-05   0.80\n",
       "Name: precipitation, dtype: float64"
      ]
     },
     "execution_count": 9,
     "metadata": {},
     "output_type": "execute_result"
    }
   ],
   "source": [
    "# Interpolate the missing values\n",
    "df['precipitation'] = df['precipitation'].interpolate()\n",
    "df['precipitation'].head()"
   ]
  },
  {
   "cell_type": "code",
   "execution_count": 10,
   "id": "062e8752",
   "metadata": {},
   "outputs": [
    {
     "data": {
      "text/plain": [
       "0"
      ]
     },
     "execution_count": 10,
     "metadata": {},
     "output_type": "execute_result"
    }
   ],
   "source": [
    "# Check 'precipitation' for null values, again\n",
    "df['precipitation'].isna().sum()"
   ]
  },
  {
   "cell_type": "code",
   "execution_count": 11,
   "id": "3895e8d4",
   "metadata": {},
   "outputs": [
    {
     "data": {
      "text/plain": [
       "419"
      ]
     },
     "execution_count": 11,
     "metadata": {},
     "output_type": "execute_result"
    }
   ],
   "source": [
    "# Check 'mean_temp' for null values\n",
    "df['mean_temp'].isna().sum()"
   ]
  },
  {
   "cell_type": "code",
   "execution_count": 12,
   "id": "fb259474",
   "metadata": {},
   "outputs": [
    {
     "data": {
      "text/plain": [
       "date\n",
       "2000-01-01   7.00\n",
       "2000-01-02   7.90\n",
       "2000-01-03   9.40\n",
       "2000-01-04   7.00\n",
       "2000-01-05   6.40\n",
       "Name: mean_temp, dtype: float64"
      ]
     },
     "execution_count": 12,
     "metadata": {},
     "output_type": "execute_result"
    }
   ],
   "source": [
    "# Interpolate the missing values\n",
    "df['mean_temp'] = df['mean_temp'].interpolate()\n",
    "df['mean_temp'].head()"
   ]
  },
  {
   "cell_type": "code",
   "execution_count": 13,
   "id": "8b923d52",
   "metadata": {},
   "outputs": [
    {
     "data": {
      "text/plain": [
       "0"
      ]
     },
     "execution_count": 13,
     "metadata": {},
     "output_type": "execute_result"
    }
   ],
   "source": [
    "# Check 'mean_temp' for null values, again\n",
    "df['mean_temp'].isna().sum()"
   ]
  },
  {
   "cell_type": "code",
   "execution_count": 14,
   "id": "f3de8736",
   "metadata": {},
   "outputs": [
    {
     "data": {
      "text/plain": [
       "386"
      ]
     },
     "execution_count": 14,
     "metadata": {},
     "output_type": "execute_result"
    }
   ],
   "source": [
    "# Check 'min_temp' for null values\n",
    "df['min_temp'].isna().sum()"
   ]
  },
  {
   "cell_type": "code",
   "execution_count": 15,
   "id": "86f081c4",
   "metadata": {},
   "outputs": [
    {
     "data": {
      "text/plain": [
       "date\n",
       "2000-01-01   4.90\n",
       "2000-01-02   5.00\n",
       "2000-01-03   7.20\n",
       "2000-01-04   4.40\n",
       "2000-01-05   1.90\n",
       "Name: min_temp, dtype: float64"
      ]
     },
     "execution_count": 15,
     "metadata": {},
     "output_type": "execute_result"
    }
   ],
   "source": [
    "# Interpolate the missing values\n",
    "df['min_temp'] = df['min_temp'].interpolate()\n",
    "df['min_temp'].head()"
   ]
  },
  {
   "cell_type": "code",
   "execution_count": 16,
   "id": "ec64d0f3",
   "metadata": {},
   "outputs": [
    {
     "data": {
      "text/plain": [
       "0"
      ]
     },
     "execution_count": 16,
     "metadata": {},
     "output_type": "execute_result"
    }
   ],
   "source": [
    "# Check 'min_temp' for null values, again\n",
    "df['min_temp'].isna().sum()"
   ]
  },
  {
   "cell_type": "code",
   "execution_count": 17,
   "id": "267f3428",
   "metadata": {},
   "outputs": [
    {
     "data": {
      "text/plain": [
       "390"
      ]
     },
     "execution_count": 17,
     "metadata": {},
     "output_type": "execute_result"
    }
   ],
   "source": [
    "# Check 'max_temp' for null values\n",
    "df['max_temp'].isna().sum()"
   ]
  },
  {
   "cell_type": "code",
   "execution_count": 18,
   "id": "6227b358",
   "metadata": {},
   "outputs": [
    {
     "data": {
      "text/plain": [
       "date\n",
       "2000-01-01   10.80\n",
       "2000-01-02   11.50\n",
       "2000-01-03    9.50\n",
       "2000-01-04   11.00\n",
       "2000-01-05   10.80\n",
       "Name: max_temp, dtype: float64"
      ]
     },
     "execution_count": 18,
     "metadata": {},
     "output_type": "execute_result"
    }
   ],
   "source": [
    "# Interpolate the missing values\n",
    "df['max_temp'] = df['max_temp'].interpolate()\n",
    "df['max_temp'].head()"
   ]
  },
  {
   "cell_type": "code",
   "execution_count": 19,
   "id": "5f176e99",
   "metadata": {},
   "outputs": [
    {
     "data": {
      "text/plain": [
       "0"
      ]
     },
     "execution_count": 19,
     "metadata": {},
     "output_type": "execute_result"
    }
   ],
   "source": [
    "# Check 'max_temp' for null values, again\n",
    "df['max_temp'].isna().sum()"
   ]
  },
  {
   "cell_type": "code",
   "execution_count": 20,
   "id": "2862acea",
   "metadata": {},
   "outputs": [
    {
     "data": {
      "text/plain": [
       "1752"
      ]
     },
     "execution_count": 20,
     "metadata": {},
     "output_type": "execute_result"
    }
   ],
   "source": [
    "# Check 'snow_depth' for null values\n",
    "df['snow_depth'].isna().sum()"
   ]
  },
  {
   "cell_type": "code",
   "execution_count": 21,
   "id": "6dcc758b",
   "metadata": {},
   "outputs": [
    {
     "data": {
      "text/plain": [
       "date\n",
       "2000-01-01   0.00\n",
       "2000-01-02   0.00\n",
       "2000-01-03   0.00\n",
       "2000-01-04   0.00\n",
       "2000-01-05   0.00\n",
       "Name: snow_depth, dtype: float64"
      ]
     },
     "execution_count": 21,
     "metadata": {},
     "output_type": "execute_result"
    }
   ],
   "source": [
    "# 'snow_depth' should not be interpolated, as there are many days with the missing values, \n",
    "# as it did not snow those days. We will impute missing values as 'zero'\n",
    "df['snow_depth'] = df['snow_depth'].fillna(0)\n",
    "df['snow_depth'].head()"
   ]
  },
  {
   "cell_type": "code",
   "execution_count": 22,
   "id": "39b546f3",
   "metadata": {},
   "outputs": [
    {
     "data": {
      "text/plain": [
       "0"
      ]
     },
     "execution_count": 22,
     "metadata": {},
     "output_type": "execute_result"
    }
   ],
   "source": [
    "# Check 'snow_depth' for null values, again\n",
    "df['snow_depth'].isna().sum()"
   ]
  },
  {
   "cell_type": "markdown",
   "id": "9e55a8e8",
   "metadata": {},
   "source": [
    "## Visualizations"
   ]
  },
  {
   "cell_type": "markdown",
   "id": "c4a17e27",
   "metadata": {},
   "source": [
    "### Q1: What month had the most precipitation between 2000 and 2010?"
   ]
  },
  {
   "cell_type": "code",
   "execution_count": 23,
   "id": "62df739e",
   "metadata": {},
   "outputs": [
    {
     "data": {
      "text/plain": [
       "date\n",
       "2000-01-01   0.00\n",
       "2000-01-02   0.20\n",
       "2000-01-03   6.00\n",
       "             ... \n",
       "2010-12-29   1.40\n",
       "2010-12-30   0.00\n",
       "2010-12-31   0.00\n",
       "Name: precipitation, Length: 4018, dtype: float64"
      ]
     },
     "execution_count": 23,
     "metadata": {},
     "output_type": "execute_result"
    }
   ],
   "source": [
    "# Create temporary df to work with between 2000-2010\n",
    "df_prec = df.loc['2000':'2010']['precipitation']\n",
    "df_prec"
   ]
  },
  {
   "cell_type": "code",
   "execution_count": 37,
   "id": "4e6536b0",
   "metadata": {},
   "outputs": [
    {
     "data": {
      "text/plain": [
       "date\n",
       "2000-01-01   0.47\n",
       "2000-02-01   2.23\n",
       "2000-03-01   0.45\n",
       "             ... \n",
       "2010-10-01   2.04\n",
       "2010-11-01   1.07\n",
       "2010-12-01   0.69\n",
       "Freq: MS, Name: Precipitation for 2000-2010, Length: 132, dtype: float64"
      ]
     },
     "execution_count": 37,
     "metadata": {},
     "output_type": "execute_result"
    }
   ],
   "source": [
    "# Resample the data as Monthly frequency\n",
    "df_prec_res = df_prec.resample('MS').mean()\n",
    "df_prec_res.name = 'Precipitation for 2000-2010'\n",
    "df_prec_res"
   ]
  },
  {
   "cell_type": "code",
   "execution_count": 25,
   "id": "7c64e9e1",
   "metadata": {},
   "outputs": [
    {
     "data": {
      "text/plain": [
       "Timestamp('2000-10-01 00:00:00', freq='MS')"
      ]
     },
     "execution_count": 25,
     "metadata": {},
     "output_type": "execute_result"
    }
   ],
   "source": [
    "# Show first day of month with maximum monthly average precipitation\n",
    "max_prec = df_prec_res.idxmax()\n",
    "max_prec"
   ]
  },
  {
   "cell_type": "code",
   "execution_count": 26,
   "id": "1b0ff41b",
   "metadata": {},
   "outputs": [
    {
     "data": {
      "text/plain": [
       "4.925806451612903"
      ]
     },
     "execution_count": 26,
     "metadata": {},
     "output_type": "execute_result"
    }
   ],
   "source": [
    "# Show average amount of rain per day in that month\n",
    "df_prec_res.loc[max_prec]"
   ]
  },
  {
   "cell_type": "code",
   "execution_count": 38,
   "id": "e8444704",
   "metadata": {},
   "outputs": [
    {
     "data": {
      "image/png": "[encoded data removed]",
      "text/plain": [
       "<Figure size 1200x300 with 1 Axes>"
      ]
     },
     "metadata": {},
     "output_type": "display_data"
    }
   ],
   "source": [
    "# Plot: Between 2000-2010, the maximum monthly average precipitation\n",
    "fig, ax = plt.subplots(figsize=(12,3))\n",
    "df_prec_res.plot(ax=ax, title= 'Precipitation for 2000-2010', ylabel= 'Inches');\n",
    "\n",
    "# create the locator to place ticks every 3 months.\n",
    "loc_3months = mdates.MonthLocator(interval=3)\n",
    "# fmt_months = mdates.DateFormatter(\"%b\")\n",
    "\n",
    "## for major year ticks\n",
    "loc_year = mdates.YearLocator()\n",
    "fmt_year = mdates.DateFormatter(\"%Y\")\n",
    "\n",
    "##  customize minor ticks\n",
    "ax.xaxis.set_minor_locator(loc_3months)\n",
    "# ax.xaxis.set_minor_formatter(fmt_months)\n",
    "\n",
    "##  customize major ticks\n",
    "ax.xaxis.set_major_locator(loc_year)\n",
    "ax.xaxis.set_major_formatter(fmt_year)\n",
    "\n",
    "##  Making major/minor gridlines visually distinct\n",
    "ax.grid(which='minor',axis='x',ls=\":\")\n",
    "ax.grid(which='major',axis='x',color='k')\n",
    "fig.autofmt_xdate(rotation=90,ha='center')\n",
    "\n",
    "# Plot vertical line for year with max precipitation value\n",
    "ax.axvline(min_temp, color='red', label=f'{max_prec.strftime(\"%B %Y\")}')\n",
    "\n",
    "# plot legend\n",
    "ax.legend(bbox_to_anchor=[1,1]);"
   ]
  },
  {
   "cell_type": "markdown",
   "id": "5037b0d4",
   "metadata": {},
   "source": [
    "### Q2: Which year between 2000-2020 had the coolest average temperature?"
   ]
  },
  {
   "cell_type": "code",
   "execution_count": 28,
   "id": "873b8da6",
   "metadata": {},
   "outputs": [
    {
     "data": {
      "text/plain": [
       "date\n",
       "2000-01-01    7.00\n",
       "2000-01-02    7.90\n",
       "2000-01-03    9.40\n",
       "              ... \n",
       "2020-12-29    2.60\n",
       "2020-12-30    2.70\n",
       "2020-12-31   -0.80\n",
       "Name: mean_temp, Length: 7671, dtype: float64"
      ]
     },
     "execution_count": 28,
     "metadata": {},
     "output_type": "execute_result"
    }
   ],
   "source": [
    "# Create temporary df to work with: Looking for an average temperature: 'mean_temp'\n",
    "df_temp = df.loc['2000':'2020']['mean_temp']\n",
    "df_temp"
   ]
  },
  {
   "cell_type": "code",
   "execution_count": 29,
   "id": "aba49f11",
   "metadata": {},
   "outputs": [
    {
     "data": {
      "text/plain": [
       "date\n",
       "2000-01-01   11.58\n",
       "2001-01-01   11.33\n",
       "2002-01-01   12.08\n",
       "              ... \n",
       "2018-01-01   12.50\n",
       "2019-01-01   12.21\n",
       "2020-01-01   12.72\n",
       "Freq: AS-JAN, Name: Average Temperature Resampled, Length: 21, dtype: float64"
      ]
     },
     "execution_count": 29,
     "metadata": {},
     "output_type": "execute_result"
    }
   ],
   "source": [
    "# Resample the data as Yearly frequency\n",
    "df_temp_res = df_temp.resample('AS').mean()\n",
    "df_temp_res.name = 'Average Temperature Resampled'\n",
    "df_temp_res"
   ]
  },
  {
   "cell_type": "code",
   "execution_count": 30,
   "id": "7369e011",
   "metadata": {},
   "outputs": [
    {
     "data": {
      "text/plain": [
       "Timestamp('2010-01-01 00:00:00', freq='AS-JAN')"
      ]
     },
     "metadata": {},
     "output_type": "display_data"
    },
    {
     "name": "stdout",
     "output_type": "stream",
     "text": [
      "The minimum average temperature was in the year 2010.\n"
     ]
    }
   ],
   "source": [
    "# Show first day of month with maximum monthly average precipitation\n",
    "min_temp = df_temp_res.idxmin()\n",
    "display(min_temp)\n",
    "print(f'The minimum average temperature was in the year {min_temp.strftime(\"%Y\")}.')"
   ]
  },
  {
   "cell_type": "code",
   "execution_count": 31,
   "id": "51d72ba2",
   "metadata": {},
   "outputs": [
    {
     "data": {
      "text/plain": [
       "10.657397260273973"
      ]
     },
     "execution_count": 31,
     "metadata": {},
     "output_type": "execute_result"
    }
   ],
   "source": [
    "# Show average amount of rain per day in that month\n",
    "df_temp_res.loc[min_temp]"
   ]
  },
  {
   "cell_type": "code",
   "execution_count": 39,
   "id": "262eef7e",
   "metadata": {},
   "outputs": [
    {
     "ename": "TypeError",
     "evalue": "__init__() got an unexpected keyword argument 'interval'",
     "output_type": "error",
     "traceback": [
      "\u001b[0;31m---------------------------------------------------------------------------\u001b[0m",
      "\u001b[0;31mTypeError\u001b[0m                                 Traceback (most recent call last)",
      "Cell \u001b[0;32mIn [39], line 15\u001b[0m\n\u001b[1;32m     11\u001b[0m ax\u001b[38;5;241m.\u001b[39mxaxis\u001b[38;5;241m.\u001b[39mset_minor_locator(loc_year)\n\u001b[1;32m     14\u001b[0m \u001b[38;5;66;03m## create the locator for major year ticks every 5 years\u001b[39;00m\n\u001b[0;32m---> 15\u001b[0m loc_year5 \u001b[38;5;241m=\u001b[39m \u001b[43mmdates\u001b[49m\u001b[38;5;241;43m.\u001b[39;49m\u001b[43mYearLocator\u001b[49m\u001b[43m(\u001b[49m\u001b[43minterval\u001b[49m\u001b[38;5;241;43m=\u001b[39;49m\u001b[38;5;241;43m5\u001b[39;49m\u001b[43m)\u001b[49m\n\u001b[1;32m     16\u001b[0m fmt_year5 \u001b[38;5;241m=\u001b[39m mdates\u001b[38;5;241m.\u001b[39mDateFormatter(\u001b[38;5;124m\"\u001b[39m\u001b[38;5;124m%\u001b[39m\u001b[38;5;124mY\u001b[39m\u001b[38;5;124m\"\u001b[39m)\n\u001b[1;32m     18\u001b[0m \u001b[38;5;66;03m##  customize major ticks\u001b[39;00m\n",
      "\u001b[0;31mTypeError\u001b[0m: __init__() got an unexpected keyword argument 'interval'"
     ]
    },
    {
     "data": {
      "image/png": "[encoded data removed]",
      "text/plain": [
       "<Figure size 1200x300 with 1 Axes>"
      ]
     },
     "metadata": {},
     "output_type": "display_data"
    }
   ],
   "source": [
    "# Plot\n",
    "fig, ax = plt.subplots(figsize=(12,3))\n",
    "df_temp_res.plot(ax=ax, title= 'Average Temperature', ylabel= 'Degrees');\n",
    "\n",
    "## create the locator for minor year ticks every year\n",
    "# fmt_months = mdates.DateFormatter(\"%b\") # do not label months\n",
    "loc_year = mdates.YearLocator()\n",
    "\n",
    "##  customize minor ticks\n",
    "# ax.xaxis.set_minor_formatter(fmt_months) # do not label months\n",
    "ax.xaxis.set_minor_locator(loc_year)\n",
    "\n",
    "\n",
    "## create the locator for major year ticks every 5 years\n",
    "loc_year5 = mdates.YearLocator(interval=5)\n",
    "fmt_year5 = mdates.DateFormatter(\"%Y\")\n",
    "\n",
    "##  customize major ticks\n",
    "ax.xaxis.set_major_locator(loc_year5)\n",
    "ax.xaxis.set_major_formatter(fmt_year5)\n",
    "\n",
    "##  Making major/minor gridlines visually distinct\n",
    "ax.grid(which='minor',axis='x',ls=\":\")\n",
    "ax.grid(which='major',axis='x',color='k')\n",
    "fig.autofmt_xdate(rotation=90,ha='center')\n",
    "\n",
    "# Plot vertical line for year with coolest average temperature\n",
    "ax.axvline(min_temp, color='red', label=f'{min_temp.strftime(\"%Y\")}')\n",
    "\n",
    "# plot legend\n",
    "ax.legend(bbox_to_anchor=[1,1]);"
   ]
  },
  {
   "cell_type": "code",
   "execution_count": null,
   "id": "20b0f37f",
   "metadata": {},
   "outputs": [],
   "source": []
  }
 ],
 "metadata": {
  "kernelspec": {
   "display_name": "Python (dojo-env)",
   "language": "python",
   "name": "dojo-env"
  },
  "language_info": {
   "codemirror_mode": {
    "name": "ipython",
    "version": 3
   },
   "file_extension": ".py",
   "mimetype": "text/x-python",
   "name": "python",
   "nbconvert_exporter": "python",
   "pygments_lexer": "ipython3",
   "version": "3.9.15"
  },
  "toc": {
   "base_numbering": 1,
   "nav_menu": {},
   "number_sections": false,
   "sideBar": true,
   "skip_h1_title": false,
   "title_cell": "Table of Contents",
   "title_sidebar": "Contents",
   "toc_cell": false,
   "toc_position": {
    "height": "calc(100% - 180px)",
    "left": "10px",
    "top": "150px",
    "width": "384px"
   },
   "toc_section_display": true,
   "toc_window_display": true
  }
 },
 "nbformat": 4,
 "nbformat_minor": 5
}
